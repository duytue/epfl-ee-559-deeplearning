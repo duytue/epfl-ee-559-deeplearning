{
 "cells": [
  {
   "cell_type": "code",
   "execution_count": 4,
   "metadata": {},
   "outputs": [],
   "source": [
    "import torch"
   ]
  },
  {
   "cell_type": "code",
   "execution_count": 16,
   "metadata": {},
   "outputs": [
    {
     "name": "stdout",
     "output_type": "stream",
     "text": [
      "tensor([[ 1.,  2.,  1.,  1.,  1.,  1.,  2.,  1.,  1.,  1.,  1.,  2.,\n",
      "          1.],\n",
      "        [ 2.,  2.,  2.,  2.,  2.,  2.,  2.,  2.,  2.,  2.,  2.,  2.,\n",
      "          2.],\n",
      "        [ 1.,  2.,  1.,  1.,  1.,  1.,  2.,  1.,  1.,  1.,  1.,  2.,\n",
      "          1.],\n",
      "        [ 1.,  2.,  1.,  3.,  3.,  1.,  2.,  1.,  3.,  3.,  1.,  2.,\n",
      "          1.],\n",
      "        [ 1.,  2.,  1.,  3.,  3.,  1.,  2.,  1.,  3.,  3.,  1.,  2.,\n",
      "          1.],\n",
      "        [ 1.,  2.,  1.,  1.,  1.,  1.,  2.,  1.,  1.,  1.,  1.,  2.,\n",
      "          1.],\n",
      "        [ 2.,  2.,  2.,  2.,  2.,  2.,  2.,  2.,  2.,  2.,  2.,  2.,\n",
      "          2.],\n",
      "        [ 1.,  2.,  1.,  1.,  1.,  1.,  2.,  1.,  1.,  1.,  1.,  2.,\n",
      "          1.],\n",
      "        [ 1.,  2.,  1.,  3.,  3.,  1.,  2.,  1.,  3.,  3.,  1.,  2.,\n",
      "          1.],\n",
      "        [ 1.,  2.,  1.,  3.,  3.,  1.,  2.,  1.,  3.,  3.,  1.,  2.,\n",
      "          1.],\n",
      "        [ 1.,  2.,  1.,  1.,  1.,  1.,  2.,  1.,  1.,  1.,  1.,  2.,\n",
      "          1.],\n",
      "        [ 2.,  2.,  2.,  2.,  2.,  2.,  2.,  2.,  2.,  2.,  2.,  2.,\n",
      "          2.],\n",
      "        [ 1.,  2.,  1.,  1.,  1.,  1.,  2.,  1.,  1.,  1.,  1.,  2.,\n",
      "          1.]])\n"
     ]
    }
   ],
   "source": [
    "# Question 1\n",
    "x = torch.Tensor(13, 13).fill_(1)\n",
    "\n",
    "t = x.storage()\n",
    "r = torch.Tensor().set_(t, storage_offset=13, size=(3,13), stride=(13*5, 1))\n",
    "r.fill_(2)\n",
    "\n",
    "r = torch.Tensor().set_(t, storage_offset=1, size=(3,13), stride=(5, 13))\n",
    "r.fill_(2)\n",
    "\n",
    "t = x.narrow(0, 3, 2)\n",
    "t.narrow(1, 3, 2).fill_(3)\n",
    "t.narrow(1, 8, 2).fill_(3)\n",
    "t = x.narrow(0, 8, 2)\n",
    "t.narrow(1, 3, 2).fill_(3)\n",
    "t.narrow(1, 8, 2).fill_(3)\n",
    "\n",
    "print (x)"
   ]
  },
  {
   "cell_type": "code",
   "execution_count": 18,
   "metadata": {},
   "outputs": [
    {
     "name": "stdout",
     "output_type": "stream",
     "text": [
      "Eigenvalues tensor([ 1.,  2.])\n"
     ]
    }
   ],
   "source": [
    "# Problem 2\n",
    "# Eigendecomposition\n",
    "m = Tensor(20, 20).normal_()\n",
    "d = torch.diag(torch.arange(1, m.size(0)+1))\n",
    "q = m.mm(d).mm(m.inverse())\n",
    "v, _ = q.eig()\n",
    "print('Eigenvalues', v.narrow(1, 0, 1).squeeze().sort()[0])"
   ]
  },
  {
   "cell_type": "code",
   "execution_count": 19,
   "metadata": {},
   "outputs": [
    {
     "name": "stdout",
     "output_type": "stream",
     "text": [
      "3.402049e+10 FLOPS\n"
     ]
    }
   ],
   "source": [
    "# Problem 3: Flops per second\n",
    "import time\n",
    "\n",
    "sz = 5000\n",
    "m = Tensor(sz, sz).normal_()\n",
    "n = Tensor(sz, sz).normal_()\n",
    "\n",
    "start = time.perf_counter()\n",
    "m.mm(n)\n",
    "end = time.perf_counter()\n",
    "\n",
    "print('{:e} FLOPS'.format((sz*sz*sz)/(end-start)))\n",
    "\n"
   ]
  },
  {
   "cell_type": "code",
   "execution_count": 21,
   "metadata": {},
   "outputs": [
    {
     "name": "stdout",
     "output_type": "stream",
     "text": [
      "Python loop: 7.551350e+01 Torch: 1.897585e-02\n"
     ]
    }
   ],
   "source": [
    "# Problem 4: Strides\n",
    "# initial tensor\n",
    "import time\n",
    "\n",
    "m = Tensor(10000, 400).normal_(10.0)\n",
    "\n",
    "def mul_row(m):\n",
    "    # loop method\n",
    "    t = torch.Tensor(m.size())\n",
    "    for i in range(m.size(0)):\n",
    "        for j in range(m.size(1)):\n",
    "            t[i,j] = m[i,j] * (i + 1)\n",
    "    return t\n",
    "\n",
    "def mul_row_fast(m):\n",
    "    # torch method\n",
    "    s = m.size()\n",
    "    \n",
    "    r = torch.arange(1, s[0] + 1).view(s[0], 1).expand(-1, s[1])\n",
    "    return m.mul(r)\n",
    "\n",
    "start = time.perf_counter()\n",
    "tmp = mul_row(m)\n",
    "mid = time.perf_counter()\n",
    "tmp = mul_row_fast(m)\n",
    "end = time.perf_counter()\n",
    "\n",
    "print ('Python loop: {:e}'.format((mid-start)), 'Torch: {:e}'.format((end-mid)))\n",
    "    "
   ]
  }
 ],
 "metadata": {
  "kernelspec": {
   "display_name": "Python 3",
   "language": "python",
   "name": "python3"
  },
  "language_info": {
   "codemirror_mode": {
    "name": "ipython",
    "version": 3
   },
   "file_extension": ".py",
   "mimetype": "text/x-python",
   "name": "python",
   "nbconvert_exporter": "python",
   "pygments_lexer": "ipython3",
   "version": "3.6.5"
  }
 },
 "nbformat": 4,
 "nbformat_minor": 2
}
