{
 "cells": [
  {
   "cell_type": "code",
   "execution_count": 2,
   "metadata": {},
   "outputs": [],
   "source": [
    "import torch"
   ]
  },
  {
   "cell_type": "code",
   "execution_count": 7,
   "metadata": {},
   "outputs": [
    {
     "data": {
      "text/plain": [
       "tensor([ 0.,  1.,  2.,  3.,  4.,  5.,  6.,  7.,  8.,  9.])"
      ]
     },
     "execution_count": 7,
     "metadata": {},
     "output_type": "execute_result"
    }
   ],
   "source": [
    "q = torch.arange(10)\n",
    "q"
   ]
  },
  {
   "cell_type": "code",
   "execution_count": 10,
   "metadata": {},
   "outputs": [
    {
     "name": "stdout",
     "output_type": "stream",
     "text": [
      " 0.0\n",
      " 1.0\n",
      " 2.0\n",
      " 3.0\n",
      " 4.0\n",
      " 5.0\n",
      " 6.0\n",
      " 7.0\n",
      " 8.0\n",
      " 9.0\n",
      "[torch.FloatStorage of size 10]\n",
      "tensor([[ 0.,  1.,  2.,  3.,  4.],\n",
      "        [ 5.,  6.,  7.,  8.,  9.]])\n",
      "tensor([[ 0.,  1.],\n",
      "        [ 2.,  3.],\n",
      "        [ 4.,  5.],\n",
      "        [ 6.,  7.],\n",
      "        [ 8.,  9.]])\n"
     ]
    }
   ],
   "source": [
    "# Storage view\n",
    "print (q.storage())\n",
    "\n",
    "# Create a new Tensor that \"reference\" q, with 2x5 dimension\n",
    "print (q.view(2,5))\n",
    "\n",
    "# Create a mx2 matrix that must fit q\n",
    "print (q.view(-1, 2))"
   ]
  },
  {
   "cell_type": "code",
   "execution_count": 12,
   "metadata": {},
   "outputs": [
    {
     "name": "stdout",
     "output_type": "stream",
     "text": [
      "tensor([[  5.,   8.,  11.],\n",
      "        [ 10.,  13.,  16.]])\n"
     ]
    }
   ],
   "source": [
    "t = torch.arange(0, 20).storage()\n",
    "\n",
    "x = torch.Tensor().set_(t, storage_offset = 5, size = (2, 3), stride = (5, 3))\n",
    "print (x)\n",
    "# set new Tensor x as below\n",
    "# data starts from storage_offset,\n",
    "# x will have size (2, 3),\n",
    "# each element in first dimension will jump 5 each from storage_offset\n",
    "# each element in 2nd dimension will jump 3 each from starting offset of that dimension"
   ]
  },
  {
   "cell_type": "code",
   "execution_count": null,
   "metadata": {},
   "outputs": [],
   "source": []
  }
 ],
 "metadata": {
  "kernelspec": {
   "display_name": "Python 3",
   "language": "python",
   "name": "python3"
  },
  "language_info": {
   "codemirror_mode": {
    "name": "ipython",
    "version": 3
   },
   "file_extension": ".py",
   "mimetype": "text/x-python",
   "name": "python",
   "nbconvert_exporter": "python",
   "pygments_lexer": "ipython3",
   "version": "3.6.5"
  }
 },
 "nbformat": 4,
 "nbformat_minor": 2
}
