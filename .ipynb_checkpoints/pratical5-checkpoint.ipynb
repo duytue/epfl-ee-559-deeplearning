{
 "cells": [
  {
   "cell_type": "code",
   "execution_count": 2,
   "metadata": {},
   "outputs": [],
   "source": [
    "import torch, math\n",
    "from torch import Tensor, LongTensor\n",
    "from torch import optim, nn\n",
    "from torch.autograd import Variable"
   ]
  },
  {
   "cell_type": "markdown",
   "metadata": {},
   "source": [
    "torch.sum(input, dim, keepdim=False, out=None) -> Tensor\n",
    "* dim: the dimension to be reduced\n",
    "* keepdim: whether the output tensor has dim retained or not\n",
    "* Example:  \n",
    "\n",
    "```python\n",
    ">>> a = torch.randn(4, 4)\n",
    ">>> a\n",
    "tensor([[-0.3811, -0.7403,  1.1272,  1.0669],\n",
    "        [-0.9449, -1.0284,  0.3444, -0.4910],\n",
    "        [-0.6464, -0.3024,  0.1091, -2.3793],\n",
    "        [ 0.7808,  1.2390, -0.0583, -1.2738]])\n",
    ">>> torch.sum(a, 1) \n",
    "\"\"\"dimension 1 will be reduced -> calcutate sum of each row\"\"\"\n",
    "\"\"\"The output here has been squeezed (torch.squeeze()) since keepdim=False\"\"\"\n",
    "tensor([ 1.0727, -2.1199, -3.2190,  0.6878])\n",
    "\"\"\"keepdim=True\"\"\"\n",
    "tensor([[ 1.0727],\n",
    "        [-2.1199],\n",
    "        [-3.2190],\n",
    "        [ 0.6878]])\n",
    "```\n"
   ]
  },
  {
   "cell_type": "code",
   "execution_count": 3,
   "metadata": {},
   "outputs": [],
   "source": [
    "## ex1 Toy Dataset ##\n",
    "def generate_disc_set(nb):\n",
    "    input = Tensor(nb,2).uniform_(-1,1)\n",
    "    # inside circle -> label 1\n",
    "    # outside circle -> label 0\n",
    "    target = input.pow(2).sum(1).sub(2/ math.pi).sign().sub(1).div(-2).long()\n",
    "    return input, target\n",
    "\n",
    "train_input, train_target = generate_disc_set(1000)\n",
    "test_input, test_target = generate_disc_set(1000)\n",
    "\n",
    "mean, std = train_input.mean(), train_input.std()\n",
    "\n",
    "train_input.sub_(mean).div_(std)\n",
    "test_input.sub_(mean).div_(std)\n",
    "\n",
    "train_input, train_target = Variable(train_input), Variable(train_target)\n",
    "test_input, test_target = Variable(test_input), Variable(test_target)\n"
   ]
  },
  {
   "cell_type": "code",
   "execution_count": 4,
   "metadata": {},
   "outputs": [],
   "source": [
    "batch_size = 100\n",
    "\n",
    "def train_model(model, train_input, train_target):\n",
    "    criterion = nn.CrossEntropyLoss()\n",
    "    optimizer = optim.SGD(model.parameters(), lr = 1e-1)\n",
    "    nb_epochs = 250\n",
    "    \n",
    "    for e in range(nb_epochs):\n",
    "        for b in range(0, train_input.size(0), batch_size):\n",
    "            output = model(train_input.narrow(0, b, batch_size))\n",
    "            loss = criterion(output, train_target.narrow(0, b, batch_size))\n",
    "            model.zero_grad()\n",
    "            loss.backward()\n",
    "            optimizer.step()"
   ]
  },
  {
   "cell_type": "code",
   "execution_count": 5,
   "metadata": {},
   "outputs": [],
   "source": [
    "def compute_nb_errors(model, test_input, test_target):\n",
    "    nb_errors = 0\n",
    "    \n",
    "    for b in range(0, test_input.size(0), batch_size):\n",
    "        output = model(test_input.narrow(0, b, batch_size))\n",
    "        _, predicted_class = torch.max(output.data, 1)\n",
    "        for k in range(0, batch_size):\n",
    "            if test_target.data[b+k] != predicted_class[k]:\n",
    "                nb_errors += 1\n",
    "    return nb_errors"
   ]
  },
  {
   "cell_type": "code",
   "execution_count": 6,
   "metadata": {},
   "outputs": [],
   "source": [
    "def shallow_model():\n",
    "    return nn.Sequential(nn.Linear(2, 128),\n",
    "                         nn.ReLU(),\n",
    "                         nn.Linear(128,2))\n",
    "\n",
    "def deep_model():\n",
    "    return nn.Sequential(nn.Linear(2, 4),\n",
    "                        nn.ReLU(),\n",
    "                        nn.Linear(4, 8),\n",
    "                        nn.ReLU(),\n",
    "                        nn.Linear(8, 16),\n",
    "                        nn.ReLU(),\n",
    "                        nn.Linear(16, 32),\n",
    "                        nn.ReLU(),\n",
    "                        nn.Linear(32, 64),\n",
    "                        nn.ReLU(),\n",
    "                        nn.Linear(64, 128),\n",
    "                        nn.ReLU(),\n",
    "                        nn.Linear(128, 2))"
   ]
  },
  {
   "cell_type": "code",
   "execution_count": 7,
   "metadata": {},
   "outputs": [
    {
     "name": "stdout",
     "output_type": "stream",
     "text": [
      "std shallow_model -1.000000 train_error 0.60% test_error 1.10%\n",
      "std deep_model -1.000000 train_error 2.20% test_error 2.60%\n",
      "std shallow_model 0.001000 train_error 1.40% test_error 1.60%\n",
      "std deep_model 0.001000 train_error 48.70% test_error 50.10%\n",
      "std shallow_model 0.010000 train_error 1.10% test_error 1.60%\n",
      "std deep_model 0.010000 train_error 48.70% test_error 50.10%\n",
      "std shallow_model 0.100000 train_error 0.80% test_error 1.30%\n",
      "std deep_model 0.100000 train_error 48.70% test_error 50.10%\n",
      "std shallow_model 1.000000 train_error 0.50% test_error 0.80%\n",
      "std deep_model 1.000000 train_error 51.30% test_error 49.90%\n",
      "std shallow_model 10.000000 train_error 0.00% test_error 0.80%\n",
      "std deep_model 10.000000 train_error 51.30% test_error 49.90%\n"
     ]
    }
   ],
   "source": [
    "### Benchmarking\n",
    "for std in [-1, 1e-3, 1e-2, 1e-1, 1e-0, 1e1]:\n",
    "    for m in [shallow_model, deep_model]:\n",
    "        model = m()\n",
    "        if std > 0:\n",
    "            for p in model.parameters():\n",
    "                p.data.normal_(0, std)\n",
    "                \n",
    "        train_model(model, train_input, train_target)\n",
    "        \n",
    "        print ('std {:s} {:f} train_error {:.02f}% test_error {:.02f}%'.format(\n",
    "            m.__name__,\n",
    "            std,\n",
    "            compute_nb_errors(model, train_input, train_target) / train_input.size(0) * 100,\n",
    "            compute_nb_errors(model, test_input, test_target) / test_input.size(0) * 100\n",
    "        )\n",
    "        )"
   ]
  }
 ],
 "metadata": {
  "kernelspec": {
   "display_name": "Python 3",
   "language": "python",
   "name": "python3"
  },
  "language_info": {
   "codemirror_mode": {
    "name": "ipython",
    "version": 3
   },
   "file_extension": ".py",
   "mimetype": "text/x-python",
   "name": "python",
   "nbconvert_exporter": "python",
   "pygments_lexer": "ipython3",
   "version": "3.6.5"
  }
 },
 "nbformat": 4,
 "nbformat_minor": 2
}
