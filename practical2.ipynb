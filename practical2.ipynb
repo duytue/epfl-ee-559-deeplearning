{
 "cells": [
  {
   "cell_type": "code",
   "execution_count": 3,
   "metadata": {},
   "outputs": [],
   "source": [
    "import torch\n",
    "from torch import Tensor"
   ]
  },
  {
   "cell_type": "code",
   "execution_count": null,
   "metadata": {},
   "outputs": [],
   "source": [
    "def nearest_classification(train_input, train_target, x):\n",
    "    # train_input is a 2d float tensor of nxd containing training vectors\n",
    "    # train_target is a 1d long tensor of dimension n containing the training labels\n",
    "    # x is 1d float tensor of d containing the test vector\n",
    "    distance = (train_input - x).pow(2).sum(1).view(train_input.size(0), -1)\n",
    "    _ , n = torch.min(distance, 0)\n",
    "    \n",
    "    return train_target[n[0]]\n",
    "    "
   ]
  },
  {
   "cell_type": "code",
   "execution_count": 1,
   "metadata": {},
   "outputs": [
    {
     "ename": "SyntaxError",
     "evalue": "Missing parentheses in call to 'print'. Did you mean print(hello)? (<ipython-input-1-d9af3b2d23d2>, line 9)",
     "output_type": "error",
     "traceback": [
      "\u001b[0;36m  File \u001b[0;32m\"<ipython-input-1-d9af3b2d23d2>\"\u001b[0;36m, line \u001b[0;32m9\u001b[0m\n\u001b[0;31m    print hello\u001b[0m\n\u001b[0m              ^\u001b[0m\n\u001b[0;31mSyntaxError\u001b[0m\u001b[0;31m:\u001b[0m Missing parentheses in call to 'print'. Did you mean print(hello)?\n"
     ]
    }
   ],
   "source": [
    "def compute_nb_errors(train_input, train_target, test_input, test_target, mean = None, proj = None):\n",
    "    ''' where\n",
    "    • train ̇input is a 2d float tensor of dimension n × d containing the train vectors,\n",
    "    • train ̇target is a 1d long tensor of dimension n containing the train labels,\n",
    "    • test ̇input is a 2d float tensor of dimension m × d containing the test vectors,\n",
    "    • test ̇target is a 1d long tensor of dimension m containing the test labels,\n",
    "    • mean is either None or a 1d float tensor of dimension d,\n",
    "    • proj is either None or a 2d float tensor of dimension c × d,\n",
    "    '''\n",
    "    if mean is not None:\n",
    "        train_input -= mean\n",
    "        test_input -= mean\n",
    "    if proj is not None:\n",
    "        train_input = train_input.mm(proj.t())\n",
    "        test_input = test_input.mm(proj.t())\n",
    "    \n",
    "    nb_errors = 0\n",
    "    for i in range(test_input.size(0)):\n",
    "        if (test_target[i] != nearest_classification(train_input, train_target, test_input[i])):\n",
    "            nb_errors += 1\n",
    "    \n",
    "    return nb_errors\n",
    "    "
   ]
  },
  {
   "cell_type": "code",
   "execution_count": 2,
   "metadata": {},
   "outputs": [
    {
     "name": "stdout",
     "output_type": "stream",
     "text": [
      "helllo\n"
     ]
    }
   ],
   "source": []
  }
 ],
 "metadata": {
  "kernelspec": {
   "display_name": "Python 3",
   "language": "python",
   "name": "python3"
  },
  "language_info": {
   "codemirror_mode": {
    "name": "ipython",
    "version": 3
   },
   "file_extension": ".py",
   "mimetype": "text/x-python",
   "name": "python",
   "nbconvert_exporter": "python",
   "pygments_lexer": "ipython3",
   "version": "3.6.5"
  }
 },
 "nbformat": 4,
 "nbformat_minor": 2
}
