{
 "cells": [
  {
   "cell_type": "code",
   "execution_count": 1,
   "metadata": {},
   "outputs": [],
   "source": [
    "import torch\n",
    "from torch import Tensor\n",
    "\n",
    "import dlc_practical_prologue as prologue"
   ]
  },
  {
   "cell_type": "code",
   "execution_count": 2,
   "metadata": {},
   "outputs": [],
   "source": [
    "def nearest_classification(train_input, train_target, x):\n",
    "    # train_input is a 2d float tensor of nxd containing training vectors\n",
    "    # train_target is a 1d long tensor of dimension n containing the training labels\n",
    "    # x is 1d float tensor of d containing the test vector\n",
    "    distance = (train_input - x).pow(2).sum(1).view(train_input.size(0), -1)\n",
    "    _ , n = torch.min(distance, 0)\n",
    "    \n",
    "    return train_target[n[0]]\n",
    "    "
   ]
  },
  {
   "cell_type": "code",
   "execution_count": 3,
   "metadata": {},
   "outputs": [],
   "source": [
    "def compute_nb_errors(train_input, train_target, test_input, test_target, mean = None, proj = None):\n",
    "    ''' where\n",
    "    • train ̇input is a 2d float tensor of dimension n × d containing the train vectors,\n",
    "    • train ̇target is a 1d long tensor of dimension n containing the train labels,\n",
    "    • test ̇input is a 2d float tensor of dimension m × d containing the test vectors,\n",
    "    • test ̇target is a 1d long tensor of dimension m containing the test labels,\n",
    "    • mean is either None or a 1d float tensor of dimension d,\n",
    "    • proj is either None or a 2d float tensor of dimension c × d,\n",
    "    '''\n",
    "    if mean is not None:\n",
    "        train_input -= mean\n",
    "        test_input -= mean\n",
    "    if proj is not None:\n",
    "        train_input = train_input.mm(proj.t())\n",
    "        test_input = test_input.mm(proj.t())\n",
    "    \n",
    "    nb_errors = 0\n",
    "    for i in range(test_input.size(0)):\n",
    "        if (test_target[i] != nearest_classification(train_input, train_target, test_input[i])):\n",
    "            nb_errors += 1\n",
    "    \n",
    "    return nb_errors\n",
    "    "
   ]
  },
  {
   "cell_type": "code",
   "execution_count": 4,
   "metadata": {},
   "outputs": [],
   "source": [
    "def PCA(x):\n",
    "    '''\n",
    "    where x is a 2d float tensor of dimension n × d, which returns a pair composed of the 1d mean vector\n",
    "    of dimension d and the PCA basis, ranked in decreasing order of the eigen-values, as a 2d tensor of\n",
    "    dimension d × d.\n",
    "    '''\n",
    "    # Mean vector\n",
    "    mean = x.mean(0)\n",
    "    \n",
    "    # subtract mean\n",
    "    matrix = x - mean\n",
    "    \n",
    "    # covariance matrix\n",
    "    sigma = matrix.t().mm(matrix)\n",
    "    \n",
    "    eigen_values, eigen_vectors = sigma.eig(True)\n",
    "    ranking = eigen_values[:,0].abs().sort(0, True)[1]\n",
    "    eigen_vectors = eigen_vectors.t()[ranking]\n",
    "    \n",
    "    return mean, eigen_vectors\n",
    "    "
   ]
  },
  {
   "cell_type": "code",
   "execution_count": 10,
   "metadata": {},
   "outputs": [
    {
     "name": "stdout",
     "output_type": "stream",
     "text": [
      "* Using MNIST\n",
      "** Reduce the data-set (use --full for the full thing)\n",
      "** Use 1000 train and 1000 test samples\n",
      "Baseline nb_errors 172 error 17.20%\n",
      "torch.Size([100, 784])\n",
      "Random 100d nb_errors 198 error 19.80%\n",
      "pca_basis:  torch.Size([784, 784])\n",
      "PCA 100d nb_errors 164 error 16.40%\n",
      "PCA 50d nb_errors 155 error 15.50%\n",
      "PCA 10d nb_errors 214 error 21.40%\n",
      "PCA 3d nb_errors 597 error 59.70%\n",
      "* Using CIFAR\n",
      "Files already downloaded and verified\n",
      "Files already downloaded and verified\n",
      "** Reduce the data-set (use --full for the full thing)\n",
      "** Use 1000 train and 1000 test samples\n",
      "Baseline nb_errors 746 error 74.60%\n",
      "torch.Size([100, 3072])\n",
      "Random 100d nb_errors 761 error 76.10%\n",
      "pca_basis:  torch.Size([3072, 3072])\n",
      "PCA 100d nb_errors 745 error 74.50%\n",
      "PCA 50d nb_errors 737 error 73.70%\n",
      "PCA 10d nb_errors 763 error 76.30%\n",
      "PCA 3d nb_errors 839 error 83.90%\n"
     ]
    }
   ],
   "source": [
    "# load data\n",
    "for c in [False, True]:\n",
    "    train_input, train_target, test_input, test_target = prologue.load_data(cifar=c)\n",
    "\n",
    "    nb_errors = compute_nb_errors(train_input, train_target, test_input, test_target)\n",
    "    print('Baseline nb_errors {:d} error {:.02f}%'.format(nb_errors, 100 * nb_errors / test_input.size(0)))\n",
    "    \n",
    "    basis = train_input.new(100, train_input.size(1)).normal_()\n",
    "    print (basis.size())\n",
    "    \n",
    "    nb_errors = compute_nb_errors(train_input, train_target, test_input, test_target, None, basis)\n",
    "    print('Random {:d}d nb_errors {:d} error {:.02f}%'.format(basis.size(0), nb_errors, 100*nb_errors/test_input.size(0)))\n",
    "    \n",
    "    mean, PCA_basis = PCA(train_input)\n",
    "    print('pca_basis: ', PCA_basis.size())\n",
    "    \n",
    "    for d in [100, 50, 10, 3]:\n",
    "        # turn basis to d x train_input.size(1)\n",
    "        # or reduce the number of rows\n",
    "        PCA_basis = PCA_basis.narrow(0,0,d)\n",
    "        \n",
    "        nb_errors = compute_nb_errors(train_input, train_target, test_input, test_target, mean, PCA_basis)\n",
    "        print ('PCA {:d}d nb_errors {:d} error {:.02f}%'. format(d, nb_errors, 100*nb_errors/test_input.size(0)))\n",
    "        "
   ]
  }
 ],
 "metadata": {
  "kernelspec": {
   "display_name": "Python 3",
   "language": "python",
   "name": "python3"
  },
  "language_info": {
   "codemirror_mode": {
    "name": "ipython",
    "version": 3
   },
   "file_extension": ".py",
   "mimetype": "text/x-python",
   "name": "python",
   "nbconvert_exporter": "python",
   "pygments_lexer": "ipython3",
   "version": "3.6.5"
  }
 },
 "nbformat": 4,
 "nbformat_minor": 2
}
