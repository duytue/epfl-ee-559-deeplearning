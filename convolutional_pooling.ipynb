{
 "cells": [
  {
   "cell_type": "code",
   "execution_count": 1,
   "metadata": {},
   "outputs": [],
   "source": [
    "import torch\n",
    "from torch import Tensor\n",
    "from torch.autograd import Variable\n",
    "from torch.nn.functional import relu, max_pool2d\n",
    "from torch.nn import Conv2d, Linear, MSELoss"
   ]
  },
  {
   "cell_type": "code",
   "execution_count": 2,
   "metadata": {},
   "outputs": [
    {
     "name": "stdout",
     "output_type": "stream",
     "text": [
      "tensor([[ 0.0312,  1.1382,  1.3751,  1.3059,  1.3983],\n",
      "        [-1.9474, -0.8050, -0.0096,  1.0111, -0.5008]])\n",
      "tensor([[ 0.0312,  1.1382,  1.3751,  1.3059,  1.3983],\n",
      "        [ 0.0000,  0.0000,  0.0000,  1.0111,  0.0000]])\n"
     ]
    }
   ],
   "source": [
    "# apply relu\n",
    "# relu(input, inplace = False)\n",
    "x = Variable(Tensor(2,5).normal_())\n",
    "print (x)\n",
    "y = relu(x)\n",
    "print(y)"
   ]
  },
  {
   "cell_type": "code",
   "execution_count": 3,
   "metadata": {},
   "outputs": [
    {
     "name": "stdout",
     "output_type": "stream",
     "text": [
      "tensor([[[[ 0.,  4.,  3.,  3.,  4.,  1.],\n",
      "          [ 0.,  0.,  4.,  2.,  4.,  3.],\n",
      "          [ 4.,  3.,  2.,  1.,  3.,  4.]],\n",
      "\n",
      "         [[ 0.,  4.,  4.,  1.,  0.,  1.],\n",
      "          [ 2.,  1.,  1.,  1.,  3.,  2.],\n",
      "          [ 3.,  2.,  2.,  1.,  3.,  2.]]]])\n"
     ]
    },
    {
     "data": {
      "text/plain": [
       "tensor([[[[ 4.,  3.,  4.],\n",
       "          [ 0.,  4.,  4.],\n",
       "          [ 4.,  2.,  4.]],\n",
       "\n",
       "         [[ 4.,  4.,  1.],\n",
       "          [ 2.,  1.,  3.],\n",
       "          [ 3.,  2.,  3.]]]])"
      ]
     },
     "execution_count": 3,
     "metadata": {},
     "output_type": "execute_result"
    }
   ],
   "source": [
    "# get N x C x H x W input\n",
    "# return N x C x floor(H/h) x floor(W/w)\n",
    "x = Variable(Tensor(1,2,3,6).random_(5))\n",
    "print (x)\n",
    "max_pool2d(x, (1,2))\n"
   ]
  },
  {
   "cell_type": "code",
   "execution_count": 4,
   "metadata": {},
   "outputs": [
    {
     "data": {
      "text/plain": [
       "torch.Size([52, 4])"
      ]
     },
     "execution_count": 4,
     "metadata": {},
     "output_type": "execute_result"
    }
   ],
   "source": [
    "# Linear\n",
    "# input NxC -> NxD\n",
    "\n",
    "# weight and bias are randomized\n",
    "f = Linear(in_features = 10, out_features = 4)\n",
    "f.weight.size()\n",
    "f.bias.size()\n",
    "x = Variable(Tensor(52, 10).normal_())\n",
    "y = f(x)\n",
    "y.size()"
   ]
  },
  {
   "cell_type": "code",
   "execution_count": 5,
   "metadata": {},
   "outputs": [
    {
     "data": {
      "text/plain": [
       "torch.Size([62, 5, 9, 1])"
      ]
     },
     "execution_count": 5,
     "metadata": {},
     "output_type": "execute_result"
    }
   ],
   "source": [
    "# convolutional layer\n",
    "# input: N x C x H x W\n",
    "# output: N x D x (H-h+1) x (W-w+1)\n",
    "\n",
    "l = Conv2d(in_channels = 4, out_channels = 5, kernel_size = (2,3))\n",
    "l.weight.size()\n",
    "l.bias.size()\n",
    "x = Variable(Tensor(62, 4, 10, 3).normal_())\n",
    "y = l(x)\n",
    "y.size()"
   ]
  },
  {
   "cell_type": "code",
   "execution_count": 14,
   "metadata": {},
   "outputs": [
    {
     "name": "stdout",
     "output_type": "stream",
     "text": [
      "tensor([[ 2.,  0.],\n",
      "        [ 1.,  3.]]) \n",
      " tensor([[ 5.,  3.],\n",
      "        [ 5.,  4.]])\n"
     ]
    },
    {
     "data": {
      "text/plain": [
       "tensor(8.7500)"
      ]
     },
     "execution_count": 14,
     "metadata": {},
     "output_type": "execute_result"
    }
   ],
   "source": [
    "# MSELoss: mean squared error loss\n",
    "# sum / total number of components\n",
    "\n",
    "f = MSELoss()\n",
    "x = Variable(Tensor(2,2).random_(5))\n",
    "y = Variable(Tensor(2,2).random_(10))\n",
    "print (x, '\\n',y)\n",
    "f(x,y)"
   ]
  },
  {
   "cell_type": "code",
   "execution_count": null,
   "metadata": {},
   "outputs": [],
   "source": []
  }
 ],
 "metadata": {
  "kernelspec": {
   "display_name": "Python 3",
   "language": "python",
   "name": "python3"
  },
  "language_info": {
   "codemirror_mode": {
    "name": "ipython",
    "version": 3
   },
   "file_extension": ".py",
   "mimetype": "text/x-python",
   "name": "python",
   "nbconvert_exporter": "python",
   "pygments_lexer": "ipython3",
   "version": "3.6.5"
  }
 },
 "nbformat": 4,
 "nbformat_minor": 2
}
